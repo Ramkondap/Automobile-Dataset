{
 "cells": [
  {
   "cell_type": "markdown",
   "metadata": {},
   "source": [
    "# Final Project"
   ]
  },
  {
   "cell_type": "code",
   "execution_count": 151,
   "metadata": {},
   "outputs": [],
   "source": [
    "import matplotlib.pyplot as plt\n",
    "import numpy as np\n",
    "import pandas as pd\n",
    "from sklearn import linear_model \n",
    "from sklearn import metrics\n",
    "%matplotlib inline"
   ]
  },
  {
   "cell_type": "code",
   "execution_count": 152,
   "metadata": {},
   "outputs": [
    {
     "name": "stdout",
     "output_type": "stream",
     "text": [
      "(205, 26)\n",
      "<class 'pandas.core.frame.DataFrame'>\n"
     ]
    }
   ],
   "source": [
    "#read in dataset\n",
    "auto_data = pd.read_csv(\"Automobile_data.csv\")\n",
    "\n",
    "print(auto_data.shape)\n",
    "print(type(auto_data))"
   ]
  },
  {
   "cell_type": "code",
   "execution_count": 153,
   "metadata": {},
   "outputs": [],
   "source": [
    "#Get rid of garbage values\n",
    "for i in range(205):\n",
    "    if auto_data['peak-rpm'][i] == '?':\n",
    "        auto_data = auto_data.drop([i])\n",
    "    elif auto_data['horsepower'][i] == '?':\n",
    "        auto_data = auto_data.drop([i])\n",
    "    elif auto_data['price'][i] == '?':\n",
    "        auto_data = auto_data.drop([i])\n",
    "    else:\n",
    "        continue"
   ]
  },
  {
   "cell_type": "code",
   "execution_count": 154,
   "metadata": {},
   "outputs": [],
   "source": [
    "#Convert all string(objects) variables to float\n",
    "auto_data['peak-rpm'] = auto_data['peak-rpm'].astype(float)\n",
    "auto_data['horsepower'] = auto_data['horsepower'].astype(float)\n",
    "auto_data['price'] = auto_data['price'].astype(float)"
   ]
  },
  {
   "cell_type": "code",
   "execution_count": 155,
   "metadata": {},
   "outputs": [
    {
     "name": "stdout",
     "output_type": "stream",
     "text": [
      "[ 2.87472339e+01  1.28716588e+03 -1.12830178e+00  1.23746840e+02]\n",
      "[ 1.41284011e+03 -1.21511610e+00  1.25015691e+02]\n",
      "[187.30028401  -1.47421078 138.43325596]\n",
      "[  45.1404029  1338.93907941  117.26453449]\n",
      "[1.35544513e+02 2.26696482e+03 1.76109649e+00]\n"
     ]
    }
   ],
   "source": [
    "#Create models\n",
    "model_1 = linear_model.LinearRegression()\n",
    "model_1.fit(auto_data[['length', 'width', 'peak-rpm', 'horsepower']], auto_data.price)\n",
    "\n",
    "model_2 = linear_model.LinearRegression()\n",
    "model_2.fit(auto_data[['width', 'peak-rpm', 'horsepower']], auto_data.price)\n",
    "\n",
    "model_3 = linear_model.LinearRegression()\n",
    "model_3.fit(auto_data[['length','peak-rpm', 'horsepower']], auto_data.price)\n",
    "\n",
    "model_4 = linear_model.LinearRegression()\n",
    "model_4.fit(auto_data[['length', 'width', 'horsepower']], auto_data.price)\n",
    "\n",
    "model_5 = linear_model.LinearRegression()\n",
    "model_5.fit(auto_data[['length', 'width', 'peak-rpm']], auto_data.price)\n",
    "\n",
    "print(model_1.coef_)\n",
    "print(model_2.coef_)\n",
    "print(model_3.coef_)\n",
    "print(model_4.coef_)\n",
    "print(model_5.coef_)"
   ]
  },
  {
   "cell_type": "code",
   "execution_count": 156,
   "metadata": {},
   "outputs": [],
   "source": [
    "#Set up cross validation and find SSE/RMSE\n",
    "X1 = auto_data[['length', 'width', 'peak-rpm', 'horsepower']]\n",
    "X2 = auto_data[['width', 'peak-rpm', 'horsepower']]\n",
    "X3 = auto_data[['length','peak-rpm', 'horsepower']]\n",
    "X4 = auto_data[['length', 'width', 'horsepower']]\n",
    "X5 = auto_data[['length', 'width', 'peak-rpm']]\n",
    "Y = auto_data['price']\n",
    "\n",
    "#Split train and test data\n",
    "from sklearn.model_selection import train_test_split"
   ]
  },
  {
   "cell_type": "code",
   "execution_count": 157,
   "metadata": {},
   "outputs": [
    {
     "name": "stdout",
     "output_type": "stream",
     "text": [
      "Model 1 RMSE = 4581.553144803541\n",
      "Model 1 SSE = 839625168.7463686\n"
     ]
    }
   ],
   "source": [
    "#Model 1 SSE and RMSE values\n",
    "X1_train, X1_test, Y_train, Y_test = train_test_split(X1,Y,test_size=0.2)\n",
    "\n",
    "model_1_cross = linear_model.LinearRegression()\n",
    "model_1_cross.fit(X1_train, Y_train)\n",
    "\n",
    "y_predict = model_1_cross.predict(X1_test)\n",
    "\n",
    "mod1_RMSE = np.sqrt(metrics.mean_squared_error(Y_test, y_predict))\n",
    "mod1_SSE = (mod1_RMSE**2)*(40)\n",
    "\n",
    "print(\"Model 1 RMSE = \" + str(mod1_RMSE))\n",
    "print(\"Model 1 SSE = \" + str(mod1_SSE))"
   ]
  },
  {
   "cell_type": "code",
   "execution_count": 158,
   "metadata": {},
   "outputs": [
    {
     "name": "stdout",
     "output_type": "stream",
     "text": [
      "Model 2 RMSE = 3517.084294966649\n",
      "Model 2 SSE = 494795277.516042\n"
     ]
    }
   ],
   "source": [
    "#Model 2 SSE and RMSE values\n",
    "X2_train, X2_test, Y_train, Y_test = train_test_split(X2,Y,test_size=0.2)\n",
    "\n",
    "model_2_cross = linear_model.LinearRegression()\n",
    "model_2_cross.fit(X2_train, Y_train)\n",
    "\n",
    "y_predict = model_2_cross.predict(X2_test)\n",
    "\n",
    "mod2_RMSE = np.sqrt(metrics.mean_squared_error(Y_test, y_predict))\n",
    "mod2_SSE = (mod2_RMSE**2)*(40)\n",
    "\n",
    "print(\"Model 2 RMSE = \" + str(mod2_RMSE))\n",
    "print(\"Model 2 SSE = \" + str(mod2_SSE))"
   ]
  },
  {
   "cell_type": "code",
   "execution_count": 159,
   "metadata": {},
   "outputs": [
    {
     "name": "stdout",
     "output_type": "stream",
     "text": [
      "Model 3 RMSE = 3639.9318373709634\n",
      "Model 3 SSE = 529964151.2282703\n"
     ]
    }
   ],
   "source": [
    "#Model 3 SSE and RMSE values\n",
    "X3_train, X3_test, Y_train, Y_test = train_test_split(X3,Y,test_size=0.2)\n",
    "\n",
    "model_3_cross = linear_model.LinearRegression()\n",
    "model_3_cross.fit(X3_train, Y_train)\n",
    "\n",
    "y_predict = model_3_cross.predict(X3_test)\n",
    "\n",
    "mod3_RMSE = np.sqrt(metrics.mean_squared_error(Y_test, y_predict))\n",
    "mod3_SSE = (mod3_RMSE**2)*(40)\n",
    "\n",
    "print(\"Model 3 RMSE = \" + str(mod3_RMSE))\n",
    "print(\"Model 3 SSE = \" + str(mod3_SSE))"
   ]
  },
  {
   "cell_type": "code",
   "execution_count": 160,
   "metadata": {},
   "outputs": [
    {
     "name": "stdout",
     "output_type": "stream",
     "text": [
      "Model 4 RMSE = 4975.9578953276105\n",
      "Model 4 SSE = 990406279.0429273\n"
     ]
    }
   ],
   "source": [
    "#Model 4 SSE and RMSE values\n",
    "X4_train, X4_test, Y_train, Y_test = train_test_split(X4,Y,test_size=0.2)\n",
    "\n",
    "model_4_cross = linear_model.LinearRegression()\n",
    "model_4_cross.fit(X4_train, Y_train)\n",
    "\n",
    "y_predict = model_4_cross.predict(X4_test)\n",
    "\n",
    "mod4_RMSE = np.sqrt(metrics.mean_squared_error(Y_test, y_predict))\n",
    "mod4_SSE = (mod4_RMSE**2)*(40)\n",
    "\n",
    "print(\"Model 4 RMSE = \" + str(mod4_RMSE))\n",
    "print(\"Model 4 SSE = \" + str(mod4_SSE))"
   ]
  },
  {
   "cell_type": "code",
   "execution_count": 161,
   "metadata": {},
   "outputs": [
    {
     "name": "stdout",
     "output_type": "stream",
     "text": [
      "Model 5 RMSE = 5144.99475649116\n",
      "Model 5 SSE = 1058838841.7728612\n"
     ]
    }
   ],
   "source": [
    "#Model 5 SSE and RMSE values\n",
    "X5_train, X5_test, Y_train, Y_test = train_test_split(X5,Y,test_size=0.2)\n",
    "\n",
    "model_5_cross = linear_model.LinearRegression()\n",
    "model_5_cross.fit(X5_train, Y_train)\n",
    "\n",
    "y_predict = model_5_cross.predict(X5_test)\n",
    "\n",
    "mod5_RMSE = np.sqrt(metrics.mean_squared_error(Y_test, y_predict))\n",
    "mod5_SSE = (mod5_RMSE**2)*(40)\n",
    "\n",
    "print(\"Model 5 RMSE = \" + str(mod5_RMSE))\n",
    "print(\"Model 5 SSE = \" + str(mod5_SSE))"
   ]
  }
 ],
 "metadata": {
  "kernelspec": {
   "display_name": "Python 3 (clean)",
   "language": "python",
   "name": "python3_clean"
  },
  "language_info": {
   "codemirror_mode": {
    "name": "ipython",
    "version": 3
   },
   "file_extension": ".py",
   "mimetype": "text/x-python",
   "name": "python",
   "nbconvert_exporter": "python",
   "pygments_lexer": "ipython3",
   "version": "3.7.6"
  }
 },
 "nbformat": 4,
 "nbformat_minor": 4
}
